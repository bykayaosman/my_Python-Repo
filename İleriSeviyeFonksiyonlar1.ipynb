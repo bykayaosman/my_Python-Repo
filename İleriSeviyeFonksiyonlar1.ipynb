{
  "nbformat": 4,
  "nbformat_minor": 0,
  "metadata": {
    "colab": {
      "name": "İleriSeviyeFonksiyonlar1.py",
      "provenance": [],
      "collapsed_sections": [],
      "authorship_tag": "ABX9TyNI4kHyj4SC/0R62ahK/1mn",
      "include_colab_link": true
    },
    "kernelspec": {
      "name": "python3",
      "display_name": "Python 3"
    },
    "language_info": {
      "name": "python"
    }
  },
  "cells": [
    {
      "cell_type": "markdown",
      "metadata": {
        "id": "view-in-github",
        "colab_type": "text"
      },
      "source": [
        "<a href=\"https://colab.research.google.com/github/bykayaosman/my_Python-Repo/blob/main/%C4%B0leriSeviyeFonksiyonlar1.ipynb\" target=\"_parent\"><img src=\"https://colab.research.google.com/assets/colab-badge.svg\" alt=\"Open In Colab\"/></a>"
      ]
    },
    {
      "cell_type": "code",
      "execution_count": 1,
      "metadata": {
        "colab": {
          "base_uri": "https://localhost:8080/",
          "height": 35
        },
        "id": "WhFEp3J3YCtI",
        "outputId": "d7568e62-c96c-4093-90e6-d0552892e13c"
      },
      "outputs": [
        {
          "output_type": "execute_result",
          "data": {
            "application/vnd.google.colaboratory.intrinsic+json": {
              "type": "string"
            },
            "text/plain": [
              "'ENKERE BEŞ ŞEHİRDİR'"
            ]
          },
          "metadata": {},
          "execution_count": 1
        }
      ],
      "source": [
        "\"ANKARA BAŞ ŞEHİRDİR\".replace(\"A\",\"E\")"
      ]
    },
    {
      "cell_type": "code",
      "source": [
        "\"görsel programlama\".upper()"
      ],
      "metadata": {
        "colab": {
          "base_uri": "https://localhost:8080/",
          "height": 35
        },
        "id": "qpkHBCosYYrN",
        "outputId": "798621cf-0f65-4eb9-e76d-7ec32d3abed8"
      },
      "execution_count": 2,
      "outputs": [
        {
          "output_type": "execute_result",
          "data": {
            "application/vnd.google.colaboratory.intrinsic+json": {
              "type": "string"
            },
            "text/plain": [
              "'GÖRSEL PROGRAMLAMA'"
            ]
          },
          "metadata": {},
          "execution_count": 2
        }
      ]
    },
    {
      "cell_type": "code",
      "source": [
        "\"DJANGO\".lower()"
      ],
      "metadata": {
        "colab": {
          "base_uri": "https://localhost:8080/",
          "height": 35
        },
        "id": "hoKV1nebYY32",
        "outputId": "c1d62380-3cc3-444d-e55f-5c6bafb3390d"
      },
      "execution_count": 3,
      "outputs": [
        {
          "output_type": "execute_result",
          "data": {
            "application/vnd.google.colaboratory.intrinsic+json": {
              "type": "string"
            },
            "text/plain": [
              "'django'"
            ]
          },
          "metadata": {},
          "execution_count": 3
        }
      ]
    },
    {
      "cell_type": "code",
      "source": [
        "\"İSTANBUL KOCAELİ SAKARYA BİLECİK KÜTAHYA\".replace(\" \",\"->\")"
      ],
      "metadata": {
        "colab": {
          "base_uri": "https://localhost:8080/",
          "height": 35
        },
        "id": "cYrf8oF5YY92",
        "outputId": "524a00c1-2855-423a-e58b-c7811f8992ca"
      },
      "execution_count": 4,
      "outputs": [
        {
          "output_type": "execute_result",
          "data": {
            "application/vnd.google.colaboratory.intrinsic+json": {
              "type": "string"
            },
            "text/plain": [
              "'İSTANBUL->KOCAELİ->SAKARYA->BİLECİK->KÜTAHYA'"
            ]
          },
          "metadata": {},
          "execution_count": 4
        }
      ]
    },
    {
      "cell_type": "code",
      "source": [
        "\"Kütahya Teknik Bilimler MYO\".endswith(\"MYO\")"
      ],
      "metadata": {
        "colab": {
          "base_uri": "https://localhost:8080/"
        },
        "id": "L12er0y5YZAX",
        "outputId": "40a87d3e-702e-4dc8-8084-a051807bd326"
      },
      "execution_count": 5,
      "outputs": [
        {
          "output_type": "execute_result",
          "data": {
            "text/plain": [
              "True"
            ]
          },
          "metadata": {},
          "execution_count": 5
        }
      ]
    },
    {
      "cell_type": "code",
      "source": [
        "\"Kütahya Dumlupınar Üniversitesi\".startswith(\"Kütahya\")\n"
      ],
      "metadata": {
        "colab": {
          "base_uri": "https://localhost:8080/"
        },
        "id": "3LliPGaDYZC4",
        "outputId": "77d0aa83-ff02-49f9-dcf7-48286e1e4459"
      },
      "execution_count": 6,
      "outputs": [
        {
          "output_type": "execute_result",
          "data": {
            "text/plain": [
              "True"
            ]
          },
          "metadata": {},
          "execution_count": 6
        }
      ]
    },
    {
      "cell_type": "code",
      "source": [
        "liste = \"Kütahya Teknik Bilimler Meslek Yüksek Okulu\".split(\" \")"
      ],
      "metadata": {
        "id": "wPSSYHCFYZFS"
      },
      "execution_count": 7,
      "outputs": []
    },
    {
      "cell_type": "code",
      "source": [
        "print(liste)\n"
      ],
      "metadata": {
        "colab": {
          "base_uri": "https://localhost:8080/"
        },
        "id": "OIs4VMXsYZIU",
        "outputId": "0e360ba6-a74d-42fd-e7a6-b0915ef8ae3d"
      },
      "execution_count": 8,
      "outputs": [
        {
          "output_type": "stream",
          "name": "stdout",
          "text": [
            "['Kütahya', 'Teknik', 'Bilimler', 'Meslek', 'Yüksek', 'Okulu']\n"
          ]
        }
      ]
    },
    {
      "cell_type": "code",
      "source": [
        "liste[0]"
      ],
      "metadata": {
        "colab": {
          "base_uri": "https://localhost:8080/",
          "height": 35
        },
        "id": "TBrT22PpYZLL",
        "outputId": "4d7518b2-b25f-445c-d212-e1101a612235"
      },
      "execution_count": 9,
      "outputs": [
        {
          "output_type": "execute_result",
          "data": {
            "application/vnd.google.colaboratory.intrinsic+json": {
              "type": "string"
            },
            "text/plain": [
              "'Kütahya'"
            ]
          },
          "metadata": {},
          "execution_count": 9
        }
      ]
    },
    {
      "cell_type": "code",
      "source": [
        "notlar=\"Berkay Doğru,80,65,78\".split(\",\")"
      ],
      "metadata": {
        "id": "CjW-kMcXZUsF"
      },
      "execution_count": 10,
      "outputs": []
    },
    {
      "cell_type": "code",
      "source": [
        ""
      ],
      "metadata": {
        "id": "1gk84UxDZgRS"
      },
      "execution_count": null,
      "outputs": []
    },
    {
      "cell_type": "code",
      "source": [
        "print(notlar)"
      ],
      "metadata": {
        "colab": {
          "base_uri": "https://localhost:8080/"
        },
        "id": "GM0s2U_bZUuW",
        "outputId": "ddff6514-11d7-498f-a3b8-9145a8a7bd89"
      },
      "execution_count": 11,
      "outputs": [
        {
          "output_type": "stream",
          "name": "stdout",
          "text": [
            "['Berkay Doğru', '80', '65', '78']\n"
          ]
        }
      ]
    },
    {
      "cell_type": "code",
      "source": [
        "\"         Kütahya MYO       \".strip()"
      ],
      "metadata": {
        "colab": {
          "base_uri": "https://localhost:8080/",
          "height": 35
        },
        "id": "94tNvyWOZUxI",
        "outputId": "5c3d1351-a4ce-4162-b359-7193b19ce5ca"
      },
      "execution_count": 12,
      "outputs": [
        {
          "output_type": "execute_result",
          "data": {
            "application/vnd.google.colaboratory.intrinsic+json": {
              "type": "string"
            },
            "text/plain": [
              "'Kütahya MYO'"
            ]
          },
          "metadata": {},
          "execution_count": 12
        }
      ]
    },
    {
      "cell_type": "code",
      "source": [
        "\"-------------------Görsel Programlama II------------\".strip(\"-\")"
      ],
      "metadata": {
        "colab": {
          "base_uri": "https://localhost:8080/",
          "height": 35
        },
        "id": "iy3BXHTwZU0X",
        "outputId": "89eb49ab-cc68-4bad-8a74-9210ae238916"
      },
      "execution_count": 13,
      "outputs": [
        {
          "output_type": "execute_result",
          "data": {
            "application/vnd.google.colaboratory.intrinsic+json": {
              "type": "string"
            },
            "text/plain": [
              "'Görsel Programlama II'"
            ]
          },
          "metadata": {},
          "execution_count": 13
        }
      ]
    },
    {
      "cell_type": "code",
      "source": [
        "\"---------------------Görsel Programlama II--------------\".rstrip(\"-\")"
      ],
      "metadata": {
        "colab": {
          "base_uri": "https://localhost:8080/",
          "height": 35
        },
        "id": "UmTM4ugUZU2H",
        "outputId": "dd2b1f08-620c-46ee-e37c-f59b63067725"
      },
      "execution_count": 14,
      "outputs": [
        {
          "output_type": "execute_result",
          "data": {
            "application/vnd.google.colaboratory.intrinsic+json": {
              "type": "string"
            },
            "text/plain": [
              "'---------------------Görsel Programlama II'"
            ]
          },
          "metadata": {},
          "execution_count": 14
        }
      ]
    },
    {
      "cell_type": "code",
      "source": [
        "liste = [\"22\",\"12\",\"2021\"]"
      ],
      "metadata": {
        "id": "lLuW6NvWZU38"
      },
      "execution_count": 15,
      "outputs": []
    },
    {
      "cell_type": "code",
      "source": [
        "\"/\".join(liste)"
      ],
      "metadata": {
        "colab": {
          "base_uri": "https://localhost:8080/",
          "height": 35
        },
        "id": "sX7nGBFnZU6g",
        "outputId": "49a2eabb-42b2-4fbd-8a9a-45853760b14e"
      },
      "execution_count": 16,
      "outputs": [
        {
          "output_type": "execute_result",
          "data": {
            "application/vnd.google.colaboratory.intrinsic+json": {
              "type": "string"
            },
            "text/plain": [
              "'22/12/2021'"
            ]
          },
          "metadata": {},
          "execution_count": 16
        }
      ]
    },
    {
      "cell_type": "code",
      "source": [
        "\".\".join(liste)"
      ],
      "metadata": {
        "colab": {
          "base_uri": "https://localhost:8080/",
          "height": 35
        },
        "id": "RRqnAMsNZU8m",
        "outputId": "97a3d15f-7342-44bc-f10f-cd2ef76477ef"
      },
      "execution_count": 17,
      "outputs": [
        {
          "output_type": "execute_result",
          "data": {
            "application/vnd.google.colaboratory.intrinsic+json": {
              "type": "string"
            },
            "text/plain": [
              "'22.12.2021'"
            ]
          },
          "metadata": {},
          "execution_count": 17
        }
      ]
    },
    {
      "cell_type": "code",
      "source": [
        "liste=[\"K\",\"T\",\"B\",\"M\",\"Y\",\"O\"]"
      ],
      "metadata": {
        "id": "_6wIvFy3ZU_I"
      },
      "execution_count": 18,
      "outputs": []
    },
    {
      "cell_type": "code",
      "source": [
        "\".\".join(liste)"
      ],
      "metadata": {
        "colab": {
          "base_uri": "https://localhost:8080/",
          "height": 35
        },
        "id": "u3katq5OZVBs",
        "outputId": "f8e9e5dc-9422-481b-b714-824a872d4a18"
      },
      "execution_count": 19,
      "outputs": [
        {
          "output_type": "execute_result",
          "data": {
            "application/vnd.google.colaboratory.intrinsic+json": {
              "type": "string"
            },
            "text/plain": [
              "'K.T.B.M.Y.O'"
            ]
          },
          "metadata": {},
          "execution_count": 19
        }
      ]
    },
    {
      "cell_type": "code",
      "source": [
        "\"Kütahya Teknik Bilimler Meslek Yüksek Okulu\".count(\"e\")"
      ],
      "metadata": {
        "colab": {
          "base_uri": "https://localhost:8080/"
        },
        "id": "sVykYqBdZVEx",
        "outputId": "7e8b0916-c219-4729-9b30-6a69db965f8a"
      },
      "execution_count": 20,
      "outputs": [
        {
          "output_type": "execute_result",
          "data": {
            "text/plain": [
              "5"
            ]
          },
          "metadata": {},
          "execution_count": 20
        }
      ]
    },
    {
      "cell_type": "code",
      "source": [
        "\"Kütahya Teknik Bilimler Meslek Yüksek Okulu\".count(\"e\",15)"
      ],
      "metadata": {
        "colab": {
          "base_uri": "https://localhost:8080/"
        },
        "id": "KKkWYQmsZVG1",
        "outputId": "54d0bc12-4f7b-45fe-939c-cfa56bb32957"
      },
      "execution_count": 21,
      "outputs": [
        {
          "output_type": "execute_result",
          "data": {
            "text/plain": [
              "4"
            ]
          },
          "metadata": {},
          "execution_count": 21
        }
      ]
    },
    {
      "cell_type": "code",
      "source": [
        "\"ibrahim.ozcandpu.edu.tr\".find(\"@\")"
      ],
      "metadata": {
        "colab": {
          "base_uri": "https://localhost:8080/"
        },
        "id": "9YZwoGJrZVIb",
        "outputId": "a9aa0ad1-7bf6-4328-9ca0-fa74551cfd28"
      },
      "execution_count": 22,
      "outputs": [
        {
          "output_type": "execute_result",
          "data": {
            "text/plain": [
              "-1"
            ]
          },
          "metadata": {},
          "execution_count": 22
        }
      ]
    },
    {
      "cell_type": "code",
      "source": [
        "\"ibrahim.ozcan@dpu.edu.tr\".find(\"a\")"
      ],
      "metadata": {
        "colab": {
          "base_uri": "https://localhost:8080/"
        },
        "id": "onaFHMbcZVKT",
        "outputId": "89cde33d-0fb1-447a-dc23-f559b3c17711"
      },
      "execution_count": 23,
      "outputs": [
        {
          "output_type": "execute_result",
          "data": {
            "text/plain": [
              "3"
            ]
          },
          "metadata": {},
          "execution_count": 23
        }
      ]
    },
    {
      "cell_type": "code",
      "source": [
        "\"ibrahim.ozcan@dpu.edu.tr\".rfind(\"a\")"
      ],
      "metadata": {
        "colab": {
          "base_uri": "https://localhost:8080/"
        },
        "id": "moS6ldRwZVML",
        "outputId": "761dc219-0585-4916-e117-d52698a17284"
      },
      "execution_count": 24,
      "outputs": [
        {
          "output_type": "execute_result",
          "data": {
            "text/plain": [
              "11"
            ]
          },
          "metadata": {},
          "execution_count": 24
        }
      ]
    },
    {
      "cell_type": "code",
      "source": [
        "# # İleri Seviye Kümeler (Sets)"
      ],
      "metadata": {
        "id": "rRxbNueTZVOd"
      },
      "execution_count": 25,
      "outputs": []
    },
    {
      "cell_type": "code",
      "source": [
        "küme = set()"
      ],
      "metadata": {
        "id": "c3re6dyiZVQ4"
      },
      "execution_count": 26,
      "outputs": []
    },
    {
      "cell_type": "code",
      "source": [
        "print(type(küme))"
      ],
      "metadata": {
        "colab": {
          "base_uri": "https://localhost:8080/"
        },
        "id": "edAI58Gca0lp",
        "outputId": "b171bf49-0785-475e-a604-94359ad070a9"
      },
      "execution_count": 27,
      "outputs": [
        {
          "output_type": "stream",
          "name": "stdout",
          "text": [
            "<class 'set'>\n"
          ]
        }
      ]
    },
    {
      "cell_type": "code",
      "source": [
        "liste = [1,1,1,2,3,4,5,2,3,34,5,45,2,34,4]"
      ],
      "metadata": {
        "id": "iVvP5yXWa0jc"
      },
      "execution_count": 28,
      "outputs": []
    },
    {
      "cell_type": "code",
      "source": [
        "küme = set(liste)"
      ],
      "metadata": {
        "id": "Ou2ZuVzka0hM"
      },
      "execution_count": 29,
      "outputs": []
    },
    {
      "cell_type": "code",
      "source": [
        "type(küme)"
      ],
      "metadata": {
        "colab": {
          "base_uri": "https://localhost:8080/"
        },
        "id": "kxdmAD4xa0fN",
        "outputId": "df010544-73e7-4700-8b1a-709f1ffb48ef"
      },
      "execution_count": 30,
      "outputs": [
        {
          "output_type": "execute_result",
          "data": {
            "text/plain": [
              "set"
            ]
          },
          "metadata": {},
          "execution_count": 30
        }
      ]
    },
    {
      "cell_type": "code",
      "source": [
        "küme"
      ],
      "metadata": {
        "colab": {
          "base_uri": "https://localhost:8080/"
        },
        "id": "yjcV4PZwa0dd",
        "outputId": "c827342b-b9b3-4048-c95e-ccd832c7931a"
      },
      "execution_count": 31,
      "outputs": [
        {
          "output_type": "execute_result",
          "data": {
            "text/plain": [
              "{1, 2, 3, 4, 5, 34, 45}"
            ]
          },
          "metadata": {},
          "execution_count": 31
        }
      ]
    },
    {
      "cell_type": "code",
      "source": [
        "küme =set(\"Bilgisayar Operatörlüğü\")"
      ],
      "metadata": {
        "id": "NKPzyj94a0aI"
      },
      "execution_count": 32,
      "outputs": []
    },
    {
      "cell_type": "code",
      "source": [
        "küme"
      ],
      "metadata": {
        "colab": {
          "base_uri": "https://localhost:8080/"
        },
        "id": "mGkKeHkXa0Xg",
        "outputId": "9bc45617-d580-4230-9925-c8615fcb8ade"
      },
      "execution_count": 33,
      "outputs": [
        {
          "output_type": "execute_result",
          "data": {
            "text/plain": [
              "{' ',\n",
              " 'B',\n",
              " 'O',\n",
              " 'a',\n",
              " 'e',\n",
              " 'g',\n",
              " 'i',\n",
              " 'l',\n",
              " 'p',\n",
              " 'r',\n",
              " 's',\n",
              " 't',\n",
              " 'y',\n",
              " 'ö',\n",
              " 'ü',\n",
              " 'ğ'}"
            ]
          },
          "metadata": {},
          "execution_count": 33
        }
      ]
    },
    {
      "cell_type": "code",
      "source": [
        "x = {\"Python\",\"Java\",\"C++\",\"Php\",\"Perl\"} # Bu bir set (küme) dir"
      ],
      "metadata": {
        "id": "iDPWGMg0a0U4"
      },
      "execution_count": 34,
      "outputs": []
    },
    {
      "cell_type": "code",
      "source": [
        "for i in x:\n",
        "    print(i)"
      ],
      "metadata": {
        "colab": {
          "base_uri": "https://localhost:8080/"
        },
        "id": "XODwbQ9Na0MY",
        "outputId": "88711c09-15cb-4dbb-8b38-1256097378a5"
      },
      "execution_count": 35,
      "outputs": [
        {
          "output_type": "stream",
          "name": "stdout",
          "text": [
            "Php\n",
            "Java\n",
            "C++\n",
            "Perl\n",
            "Python\n"
          ]
        }
      ]
    },
    {
      "cell_type": "code",
      "source": [
        "liste = list(x)"
      ],
      "metadata": {
        "id": "ZKv3cMNGZVVu"
      },
      "execution_count": 37,
      "outputs": []
    },
    {
      "cell_type": "code",
      "source": [
        "liste[0]"
      ],
      "metadata": {
        "colab": {
          "base_uri": "https://localhost:8080/",
          "height": 35
        },
        "id": "vsXKTqzObbkc",
        "outputId": "b2e020bb-9525-4d2d-aedd-9ceb2a3004e1"
      },
      "execution_count": 38,
      "outputs": [
        {
          "output_type": "execute_result",
          "data": {
            "application/vnd.google.colaboratory.intrinsic+json": {
              "type": "string"
            },
            "text/plain": [
              "'Php'"
            ]
          },
          "metadata": {},
          "execution_count": 38
        }
      ]
    },
    {
      "cell_type": "code",
      "source": [
        "liste[4]"
      ],
      "metadata": {
        "colab": {
          "base_uri": "https://localhost:8080/",
          "height": 35
        },
        "id": "t46f8WWObcAA",
        "outputId": "c8baadb6-72fd-47fb-d33c-8db6a7b7cea0"
      },
      "execution_count": 39,
      "outputs": [
        {
          "output_type": "execute_result",
          "data": {
            "application/vnd.google.colaboratory.intrinsic+json": {
              "type": "string"
            },
            "text/plain": [
              "'Python'"
            ]
          },
          "metadata": {},
          "execution_count": 39
        }
      ]
    },
    {
      "cell_type": "code",
      "source": [
        "x = {1,2,3,4}"
      ],
      "metadata": {
        "id": "UOuCAUn8bcCj"
      },
      "execution_count": 40,
      "outputs": []
    },
    {
      "cell_type": "code",
      "source": [
        "x.add(4)"
      ],
      "metadata": {
        "id": "a_68VKZpbcE0"
      },
      "execution_count": 41,
      "outputs": []
    },
    {
      "cell_type": "code",
      "source": [
        "x"
      ],
      "metadata": {
        "colab": {
          "base_uri": "https://localhost:8080/"
        },
        "id": "d2Sv9z_fbcHc",
        "outputId": "66991d11-db3b-475b-96f3-543dab7ddc1f"
      },
      "execution_count": 42,
      "outputs": [
        {
          "output_type": "execute_result",
          "data": {
            "text/plain": [
              "{1, 2, 3, 4}"
            ]
          },
          "metadata": {},
          "execution_count": 42
        }
      ]
    },
    {
      "cell_type": "code",
      "source": [
        "x.add(5)"
      ],
      "metadata": {
        "id": "SYxu0vAzbcJt"
      },
      "execution_count": 43,
      "outputs": []
    },
    {
      "cell_type": "code",
      "source": [
        "x"
      ],
      "metadata": {
        "colab": {
          "base_uri": "https://localhost:8080/"
        },
        "id": "3C7BCG2obcNR",
        "outputId": "912da4b6-d87e-4d9e-93cf-1c41423e9e59"
      },
      "execution_count": 44,
      "outputs": [
        {
          "output_type": "execute_result",
          "data": {
            "text/plain": [
              "{1, 2, 3, 4, 5}"
            ]
          },
          "metadata": {},
          "execution_count": 44
        }
      ]
    },
    {
      "cell_type": "code",
      "source": [
        "x.add(1)"
      ],
      "metadata": {
        "id": "HTB_X-7obcQK"
      },
      "execution_count": 45,
      "outputs": []
    },
    {
      "cell_type": "code",
      "source": [
        "x"
      ],
      "metadata": {
        "colab": {
          "base_uri": "https://localhost:8080/"
        },
        "id": "qRhoPt3JbcR4",
        "outputId": "ab69037e-d69d-459a-ed11-5c8108cf04f3"
      },
      "execution_count": 46,
      "outputs": [
        {
          "output_type": "execute_result",
          "data": {
            "text/plain": [
              "{1, 2, 3, 4, 5}"
            ]
          },
          "metadata": {},
          "execution_count": 46
        }
      ]
    },
    {
      "cell_type": "code",
      "source": [
        "# iki kümenin farkı: difference() metodu\n",
        "# Bu metot birinci kümenin ikinci kümeden farkını döner.\n",
        "# \n",
        "# küme1.difference(küme2) # Küme1 in Küme2 den farkı"
      ],
      "metadata": {
        "id": "SthzZuCbbcT6"
      },
      "execution_count": 47,
      "outputs": []
    },
    {
      "cell_type": "code",
      "source": [
        "küme1 = {1,2,3,4,543,63,1234,646,32,562}"
      ],
      "metadata": {
        "id": "V8nZfKiGbcVw"
      },
      "execution_count": 48,
      "outputs": []
    },
    {
      "cell_type": "code",
      "source": [
        "küme2 = {1,2,3,4,56,476,65,63,5432,24,63473}"
      ],
      "metadata": {
        "id": "zMO49zPkbceQ"
      },
      "execution_count": 49,
      "outputs": []
    },
    {
      "cell_type": "code",
      "source": [
        "küme1.difference(küme2)"
      ],
      "metadata": {
        "colab": {
          "base_uri": "https://localhost:8080/"
        },
        "id": "K3JZ8r67cBTm",
        "outputId": "cc1c3f6f-b0d1-4705-fa60-4c40e5e9fc19"
      },
      "execution_count": 50,
      "outputs": [
        {
          "output_type": "execute_result",
          "data": {
            "text/plain": [
              "{32, 543, 562, 646, 1234}"
            ]
          },
          "metadata": {},
          "execution_count": 50
        }
      ]
    },
    {
      "cell_type": "code",
      "source": [
        "küme1"
      ],
      "metadata": {
        "colab": {
          "base_uri": "https://localhost:8080/"
        },
        "id": "eL-HBxkbcBbx",
        "outputId": "dff4e7a2-a686-41f8-929f-f39793e2e093"
      },
      "execution_count": 51,
      "outputs": [
        {
          "output_type": "execute_result",
          "data": {
            "text/plain": [
              "{1, 2, 3, 4, 32, 63, 543, 562, 646, 1234}"
            ]
          },
          "metadata": {},
          "execution_count": 51
        }
      ]
    },
    {
      "cell_type": "code",
      "source": [
        "küme2.difference(küme1)"
      ],
      "metadata": {
        "colab": {
          "base_uri": "https://localhost:8080/"
        },
        "id": "i164Hmo1cBe0",
        "outputId": "11f61ee0-16d3-4879-e8d7-7f2adde91168"
      },
      "execution_count": 52,
      "outputs": [
        {
          "output_type": "execute_result",
          "data": {
            "text/plain": [
              "{24, 56, 65, 476, 5432, 63473}"
            ]
          },
          "metadata": {},
          "execution_count": 52
        }
      ]
    },
    {
      "cell_type": "code",
      "source": [
        "küme1 = {1,2,3,8,9,6,23}"
      ],
      "metadata": {
        "id": "mbvkVthAcBg_"
      },
      "execution_count": 53,
      "outputs": []
    },
    {
      "cell_type": "code",
      "source": [
        "küme1 = {1,2,3,8,9,6,23}"
      ],
      "metadata": {
        "id": "K0aPUUX7cBi8"
      },
      "execution_count": 54,
      "outputs": []
    },
    {
      "cell_type": "code",
      "source": [
        "küme1.difference_update(küme2)"
      ],
      "metadata": {
        "id": "sMnP4E3TcBlV"
      },
      "execution_count": 55,
      "outputs": []
    },
    {
      "cell_type": "code",
      "source": [
        "küme1"
      ],
      "metadata": {
        "colab": {
          "base_uri": "https://localhost:8080/"
        },
        "id": "0WwgBn3EcBn9",
        "outputId": "b5513513-1e5d-42db-8535-6bc30e532ae2"
      },
      "execution_count": 56,
      "outputs": [
        {
          "output_type": "execute_result",
          "data": {
            "text/plain": [
              "{6, 8, 9, 23}"
            ]
          },
          "metadata": {},
          "execution_count": 56
        }
      ]
    },
    {
      "cell_type": "code",
      "source": [
        "küme2"
      ],
      "metadata": {
        "colab": {
          "base_uri": "https://localhost:8080/"
        },
        "id": "tYVVY3jCcBqg",
        "outputId": "6c9af1f1-faae-4256-9ad9-42e159b09a82"
      },
      "execution_count": 57,
      "outputs": [
        {
          "output_type": "execute_result",
          "data": {
            "text/plain": [
              "{1, 2, 3, 4, 24, 56, 63, 65, 476, 5432, 63473}"
            ]
          },
          "metadata": {},
          "execution_count": 57
        }
      ]
    },
    {
      "cell_type": "code",
      "source": [
        "# Kümeden Eleman Çıkartmak : discard() metodu\n",
        "# İçine verilen değeri kümeden çıkartır. Eğer kümede öyle bir değer yoksa bu metot hiçbir şey yapmaz!(Hata VERMEZ)"
      ],
      "metadata": {
        "id": "ezIyieIicBs_"
      },
      "execution_count": 58,
      "outputs": []
    },
    {
      "cell_type": "code",
      "source": [
        "küme1 = {1,2,3,4,5,6,7}"
      ],
      "metadata": {
        "id": "9KZPYJJicBvf"
      },
      "execution_count": 59,
      "outputs": []
    },
    {
      "cell_type": "code",
      "source": [
        "küme1.discard(4)"
      ],
      "metadata": {
        "id": "GrmaN9rRcBx7"
      },
      "execution_count": 60,
      "outputs": []
    },
    {
      "cell_type": "code",
      "source": [
        "küme1"
      ],
      "metadata": {
        "colab": {
          "base_uri": "https://localhost:8080/"
        },
        "id": "GYT6qOeccBz2",
        "outputId": "6edb7864-2a25-49f7-943f-c0006ae6dd80"
      },
      "execution_count": 61,
      "outputs": [
        {
          "output_type": "execute_result",
          "data": {
            "text/plain": [
              "{1, 2, 3, 5, 6, 7}"
            ]
          },
          "metadata": {},
          "execution_count": 61
        }
      ]
    },
    {
      "cell_type": "code",
      "source": [
        "# Küme Kesişimleri: intersection() metodu\n",
        "# Bu metot iki kümenin kesişimlerini bulur"
      ],
      "metadata": {
        "id": "YbZwWK9-cB2a"
      },
      "execution_count": 62,
      "outputs": []
    },
    {
      "cell_type": "code",
      "source": [
        "küme1 = {1,2,3,54,65,745,8423,4532,2134}"
      ],
      "metadata": {
        "id": "GpZgPMwccB43"
      },
      "execution_count": 63,
      "outputs": []
    },
    {
      "cell_type": "code",
      "source": [
        "küme2 = {543,32,213,54,745,2134,3,654,74,436}"
      ],
      "metadata": {
        "id": "1OQV2IjhcB7W"
      },
      "execution_count": 64,
      "outputs": []
    },
    {
      "cell_type": "code",
      "source": [
        "küme1.intersection(küme2)"
      ],
      "metadata": {
        "colab": {
          "base_uri": "https://localhost:8080/"
        },
        "id": "E6MPxqqVcB-B",
        "outputId": "47a00240-1358-4fc7-bc03-d79c7e4ddf90"
      },
      "execution_count": 65,
      "outputs": [
        {
          "output_type": "execute_result",
          "data": {
            "text/plain": [
              "{3, 54, 745, 2134}"
            ]
          },
          "metadata": {},
          "execution_count": 65
        }
      ]
    },
    {
      "cell_type": "code",
      "source": [
        "# Küme kesişimler ve güncelleme: intersection_update() metodu\n",
        "# Bu metor birinci kümeyle ikinci kümenin kesişmelerini bulur ve birinci kümeyi bu kesişime göre günceller."
      ],
      "metadata": {
        "id": "vsg-fYqLcCBT"
      },
      "execution_count": 66,
      "outputs": []
    },
    {
      "cell_type": "code",
      "source": [
        "küme1 = {32,5,6435,23,42,15,57,84,6}"
      ],
      "metadata": {
        "id": "33iLjlI3cCDk"
      },
      "execution_count": 67,
      "outputs": []
    },
    {
      "cell_type": "code",
      "source": [
        "küme2 = {1,2,3,5,6,76,46,15}"
      ],
      "metadata": {
        "id": "L45t2Eh5vdOG"
      },
      "execution_count": 68,
      "outputs": []
    },
    {
      "cell_type": "code",
      "source": [
        "küme1.intersection_update(küme2)"
      ],
      "metadata": {
        "id": "J-8EcqcLvdQ8"
      },
      "execution_count": 69,
      "outputs": []
    },
    {
      "cell_type": "code",
      "source": [
        "küme1"
      ],
      "metadata": {
        "colab": {
          "base_uri": "https://localhost:8080/"
        },
        "id": "HTKrmRr_vdTr",
        "outputId": "b6e48946-0ed4-4b63-c3f3-edf05170f8db"
      },
      "execution_count": 70,
      "outputs": [
        {
          "output_type": "execute_result",
          "data": {
            "text/plain": [
              "{5, 6, 15}"
            ]
          },
          "metadata": {},
          "execution_count": 70
        }
      ]
    },
    {
      "cell_type": "code",
      "source": [
        "# Kümeler ayrık Küme mi? : isdisjoint() metodu\n",
        "# Bu metot, eğer iki kümenin kesişim kümesi boş ise True, değilse False döner."
      ],
      "metadata": {
        "id": "9-Mw-Y9yvdWG"
      },
      "execution_count": 71,
      "outputs": []
    },
    {
      "cell_type": "code",
      "source": [
        "küme1 = {1,2,3,4,5,67,7}"
      ],
      "metadata": {
        "id": "vM1i5UbKvdY4"
      },
      "execution_count": 72,
      "outputs": []
    },
    {
      "cell_type": "code",
      "source": [
        "küme2 = {645,8,4,23,543,6}"
      ],
      "metadata": {
        "id": "H49YQPJpvdca"
      },
      "execution_count": 73,
      "outputs": []
    },
    {
      "cell_type": "code",
      "source": [
        "küme3 = {-1,-52,856,2617,24}"
      ],
      "metadata": {
        "id": "VvEsDBaWcCFh"
      },
      "execution_count": 74,
      "outputs": []
    },
    {
      "cell_type": "code",
      "source": [
        "küme1.isdisjoint(küme2)"
      ],
      "metadata": {
        "colab": {
          "base_uri": "https://localhost:8080/"
        },
        "id": "UKSEnQWqbcgy",
        "outputId": "2e55d170-6faa-439a-cdc8-c02a44b6aef8"
      },
      "execution_count": 75,
      "outputs": [
        {
          "output_type": "execute_result",
          "data": {
            "text/plain": [
              "False"
            ]
          },
          "metadata": {},
          "execution_count": 75
        }
      ]
    },
    {
      "cell_type": "code",
      "source": [
        "küme1.isdisjoint(küme3)"
      ],
      "metadata": {
        "colab": {
          "base_uri": "https://localhost:8080/"
        },
        "id": "ymzUYvVNvw9G",
        "outputId": "a78ff767-8a91-4e34-c9ba-f152888bdcd3"
      },
      "execution_count": 76,
      "outputs": [
        {
          "output_type": "execute_result",
          "data": {
            "text/plain": [
              "True"
            ]
          },
          "metadata": {},
          "execution_count": 76
        }
      ]
    },
    {
      "cell_type": "code",
      "source": [
        "liste = [1,2,3,4]"
      ],
      "metadata": {
        "id": "NLRMDQxjvw_q"
      },
      "execution_count": 77,
      "outputs": []
    },
    {
      "cell_type": "code",
      "source": [
        "liste.append(76)"
      ],
      "metadata": {
        "id": "heoWwRJWvxCM"
      },
      "execution_count": 78,
      "outputs": []
    },
    {
      "cell_type": "code",
      "source": [
        "liste"
      ],
      "metadata": {
        "colab": {
          "base_uri": "https://localhost:8080/"
        },
        "id": "mh1-9-HSvxEa",
        "outputId": "d6d625b5-c40a-44c3-d934-0a5d3aaea294"
      },
      "execution_count": 79,
      "outputs": [
        {
          "output_type": "execute_result",
          "data": {
            "text/plain": [
              "[1, 2, 3, 4, 76]"
            ]
          },
          "metadata": {},
          "execution_count": 79
        }
      ]
    },
    {
      "cell_type": "code",
      "source": [
        "liste.append(\"KTBMYO\")"
      ],
      "metadata": {
        "id": "xGoYFAifvxIT"
      },
      "execution_count": 80,
      "outputs": []
    },
    {
      "cell_type": "code",
      "source": [
        "liste"
      ],
      "metadata": {
        "colab": {
          "base_uri": "https://localhost:8080/"
        },
        "id": "qIj5o4fBvxXS",
        "outputId": "8d316642-5a29-48e9-edd4-02768397c9b3"
      },
      "execution_count": 81,
      "outputs": [
        {
          "output_type": "execute_result",
          "data": {
            "text/plain": [
              "[1, 2, 3, 4, 76, 'KTBMYO']"
            ]
          },
          "metadata": {},
          "execution_count": 81
        }
      ]
    },
    {
      "cell_type": "code",
      "source": [
        "liste.extend([\"a\",\"b\",\"c\"])"
      ],
      "metadata": {
        "id": "QGgUKRrsvxZ6"
      },
      "execution_count": 82,
      "outputs": []
    },
    {
      "cell_type": "code",
      "source": [
        "liste"
      ],
      "metadata": {
        "colab": {
          "base_uri": "https://localhost:8080/"
        },
        "id": "Tua4GCKcvxcf",
        "outputId": "6c1910ab-183c-4b23-ffd6-af4ef9519090"
      },
      "execution_count": 83,
      "outputs": [
        {
          "output_type": "execute_result",
          "data": {
            "text/plain": [
              "[1, 2, 3, 4, 76, 'KTBMYO', 'a', 'b', 'c']"
            ]
          },
          "metadata": {},
          "execution_count": 83
        }
      ]
    },
    {
      "cell_type": "code",
      "source": [
        "liste.insert(5,\"Dumlupınar Üniversitesi\")"
      ],
      "metadata": {
        "id": "ncst7hutvxkq"
      },
      "execution_count": 86,
      "outputs": []
    },
    {
      "cell_type": "code",
      "source": [
        "liste"
      ],
      "metadata": {
        "colab": {
          "base_uri": "https://localhost:8080/"
        },
        "id": "fGJoYHj-vxm2",
        "outputId": "34a58ea5-c2e4-42bd-ecc9-2fdc26687145"
      },
      "execution_count": 87,
      "outputs": [
        {
          "output_type": "execute_result",
          "data": {
            "text/plain": [
              "[1, 2, 3, 4, 76, 'Dumlupınar Üniversitesi', 'KTBMYO', 'a', 'b', 'c']"
            ]
          },
          "metadata": {},
          "execution_count": 87
        }
      ]
    },
    {
      "cell_type": "code",
      "source": [
        ""
      ],
      "metadata": {
        "id": "oVGWPcQMvxpZ"
      },
      "execution_count": null,
      "outputs": []
    },
    {
      "cell_type": "code",
      "source": [
        ""
      ],
      "metadata": {
        "id": "bJ3io5Gwvxr8"
      },
      "execution_count": null,
      "outputs": []
    },
    {
      "cell_type": "code",
      "source": [
        ""
      ],
      "metadata": {
        "id": "vteO_2A7vxuL"
      },
      "execution_count": null,
      "outputs": []
    },
    {
      "cell_type": "code",
      "source": [
        ""
      ],
      "metadata": {
        "id": "rtLMb301vxxI"
      },
      "execution_count": null,
      "outputs": []
    },
    {
      "cell_type": "code",
      "source": [
        ""
      ],
      "metadata": {
        "id": "Zz4It6f4vx0M"
      },
      "execution_count": null,
      "outputs": []
    },
    {
      "cell_type": "code",
      "source": [
        ""
      ],
      "metadata": {
        "id": "UZtQgf_Pvx2P"
      },
      "execution_count": null,
      "outputs": []
    }
  ]
}